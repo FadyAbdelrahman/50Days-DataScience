{
 "cells": [
  {
   "cell_type": "code",
   "execution_count": 125,
   "id": "86f0460f-42e5-44ba-b009-fa8cda500660",
   "metadata": {},
   "outputs": [],
   "source": [
    "import pandas as pd\n",
    "import matplotlib.pyplot as plt\n",
    "import seaborn as sns"
   ]
  },
  {
   "cell_type": "code",
   "execution_count": 126,
   "id": "21b3a56d-b7ad-4688-b504-1a554047819a",
   "metadata": {},
   "outputs": [
    {
     "name": "stdout",
     "output_type": "stream",
     "text": [
      "  Patient_ID  Age  Gender Country_Region  Year  Genetic_Risk  Air_Pollution  \\\n",
      "0  PT0000000   71    Male             UK  2021           6.4            2.8   \n",
      "1  PT0000001   34    Male          China  2021           1.3            4.5   \n",
      "2  PT0000002   80    Male       Pakistan  2023           7.4            7.9   \n",
      "3  PT0000003   40    Male             UK  2015           1.7            2.9   \n",
      "4  PT0000004   43  Female         Brazil  2017           5.1            2.8   \n",
      "\n",
      "   Alcohol_Use  Smoking  Obesity_Level Cancer_Type Cancer_Stage  \\\n",
      "0          9.5      0.9            8.7        Lung    Stage III   \n",
      "1          3.7      3.9            6.3    Leukemia      Stage 0   \n",
      "2          2.4      4.7            0.1      Breast     Stage II   \n",
      "3          4.8      3.5            2.7       Colon      Stage I   \n",
      "4          2.3      6.7            0.5        Skin    Stage III   \n",
      "\n",
      "   Treatment_Cost_USD  Survival_Years  Target_Severity_Score  \n",
      "0            62913.44             5.9                   4.92  \n",
      "1            12573.41             4.7                   4.65  \n",
      "2             6984.33             7.1                   5.84  \n",
      "3            67446.25             1.6                   3.12  \n",
      "4            77977.12             2.9                   3.62  \n",
      "<class 'pandas.core.frame.DataFrame'>\n",
      "RangeIndex: 50000 entries, 0 to 49999\n",
      "Data columns (total 15 columns):\n",
      " #   Column                 Non-Null Count  Dtype  \n",
      "---  ------                 --------------  -----  \n",
      " 0   Patient_ID             50000 non-null  object \n",
      " 1   Age                    50000 non-null  int64  \n",
      " 2   Gender                 50000 non-null  object \n",
      " 3   Country_Region         50000 non-null  object \n",
      " 4   Year                   50000 non-null  int64  \n",
      " 5   Genetic_Risk           50000 non-null  float64\n",
      " 6   Air_Pollution          50000 non-null  float64\n",
      " 7   Alcohol_Use            50000 non-null  float64\n",
      " 8   Smoking                50000 non-null  float64\n",
      " 9   Obesity_Level          50000 non-null  float64\n",
      " 10  Cancer_Type            50000 non-null  object \n",
      " 11  Cancer_Stage           50000 non-null  object \n",
      " 12  Treatment_Cost_USD     50000 non-null  float64\n",
      " 13  Survival_Years         50000 non-null  float64\n",
      " 14  Target_Severity_Score  50000 non-null  float64\n",
      "dtypes: float64(8), int64(2), object(5)\n",
      "memory usage: 5.7+ MB\n",
      "None\n"
     ]
    }
   ],
   "source": [
    "df = pd.read_csv('../data/global_cancer_patients_2015_2024.csv')\n",
    "print(df.head())\n",
    "print(df.info())"
   ]
  },
  {
   "cell_type": "code",
   "execution_count": 127,
   "id": "2b8e5090-7fa3-444f-95a3-2df07a97e0a9",
   "metadata": {},
   "outputs": [
    {
     "name": "stdout",
     "output_type": "stream",
     "text": [
      "Missing values:\n",
      " Patient_ID               0\n",
      "Age                      0\n",
      "Gender                   0\n",
      "Country_Region           0\n",
      "Year                     0\n",
      "Genetic_Risk             0\n",
      "Air_Pollution            0\n",
      "Alcohol_Use              0\n",
      "Smoking                  0\n",
      "Obesity_Level            0\n",
      "Cancer_Type              0\n",
      "Cancer_Stage             0\n",
      "Treatment_Cost_USD       0\n",
      "Survival_Years           0\n",
      "Target_Severity_Score    0\n",
      "dtype: int64\n"
     ]
    }
   ],
   "source": [
    "# Missing values are checked for each column\n",
    "print(\"Missing values:\\n\", df.isna().sum())"
   ]
  },
  {
   "cell_type": "code",
   "execution_count": 128,
   "id": "25ba82fa-0e6a-40ef-89b7-00e374ec5a6e",
   "metadata": {},
   "outputs": [
    {
     "name": "stdout",
     "output_type": "stream",
     "text": [
      "Cancer_Type\n",
      "Breast      54.246405\n",
      "Cervical    54.713436\n",
      "Colon       54.708595\n",
      "Leukemia    54.173157\n",
      "Liver       54.192671\n",
      "Name: Age, dtype: float64\n"
     ]
    }
   ],
   "source": [
    "# The average patient age was calculated for each cancer type.\n",
    "avg_age_by_cancer = df.groupby(\"Cancer_Type\")[\"Age\"].mean()\n",
    "print(avg_age_by_cancer.head())"
   ]
  },
  {
   "cell_type": "code",
   "execution_count": 129,
   "id": "2f2146de-31f1-41c2-8878-f182da22853a",
   "metadata": {},
   "outputs": [
    {
     "name": "stdout",
     "output_type": "stream",
     "text": [
      "Gender\n",
      "Male      16796\n",
      "Female    16709\n",
      "Other     16495\n",
      "Name: count, dtype: int64\n"
     ]
    }
   ],
   "source": [
    "#distribution of genders among patients was counted.\n",
    "gender_dist = df[\"Gender\"].value_counts()\n",
    "print(gender_dist)"
   ]
  },
  {
   "cell_type": "code",
   "execution_count": 130,
   "id": "9195c72a-03a4-4324-8add-ddffcffde810",
   "metadata": {},
   "outputs": [
    {
     "data": {
      "image/png": "[encoded data removed]",
      "text/plain": [
       "<Figure size 640x480 with 1 Axes>"
      ]
     },
     "metadata": {},
     "output_type": "display_data"
    }
   ],
   "source": [
    "df[\"Gender\"].value_counts().plot(kind=\"pie\", autopct='%1.1f%%')\n",
    "plt.title(\"Gender Distribution Among Patients\")\n",
    "plt.show()"
   ]
  },
  {
   "cell_type": "code",
   "execution_count": 131,
   "id": "01e18922-93e0-4d2e-99e2-bdfecd564f1e",
   "metadata": {},
   "outputs": [
    {
     "name": "stdout",
     "output_type": "stream",
     "text": [
      "Country_Region\n",
      "Australia    4.946477\n",
      "Brazil       4.934291\n",
      "Canada       4.962305\n",
      "China        4.937570\n",
      "Germany      4.944063\n",
      "Name: Target_Severity_Score, dtype: float64\n"
     ]
    }
   ],
   "source": [
    "#The average severity score was computed for each country.\n",
    "severity_by_country = df.groupby(\"Country_Region\")[\"Target_Severity_Score\"].mean()\n",
    "print(severity_by_country.head())"
   ]
  },
  {
   "cell_type": "code",
   "execution_count": 132,
   "id": "8b1a89ed-0d43-46cd-a9aa-70279ffd122a",
   "metadata": {},
   "outputs": [
    {
     "name": "stdout",
     "output_type": "stream",
     "text": [
      "Cancer_Type\n",
      "Colon       6376\n",
      "Prostate    6308\n",
      "Leukemia    6266\n",
      "Liver       6249\n",
      "Skin        6231\n",
      "Name: count, dtype: int64\n"
     ]
    }
   ],
   "source": [
    "#The number of patients was counted for each cancer type.\n",
    "cancer_count = df[\"Cancer_Type\"].value_counts()\n",
    "print(cancer_count.head())"
   ]
  },
  {
   "cell_type": "code",
   "execution_count": 133,
   "id": "9ae0b2e9-a9ed-40c9-ba34-3eda54de61cb",
   "metadata": {},
   "outputs": [
    {
     "name": "stdout",
     "output_type": "stream",
     "text": [
      "Cancer_Stage\n",
      "Stage 0      52572.589493\n",
      "Stage I      52674.079638\n",
      "Stage II     52082.841258\n",
      "Stage III    52708.197506\n",
      "Stage IV     52302.471041\n",
      "Name: Treatment_Cost_USD, dtype: float64\n"
     ]
    }
   ],
   "source": [
    "#average treatment cost was measured for each stage of cancer.\n",
    "cost_by_stage = df.groupby(\"Cancer_Stage\")[\"Treatment_Cost_USD\"].mean()\n",
    "print(cost_by_stage)"
   ]
  },
  {
   "cell_type": "code",
   "execution_count": 134,
   "id": "599fe3e4-5ea4-43f9-8d48-64b340691081",
   "metadata": {},
   "outputs": [
    {
     "name": "stdout",
     "output_type": "stream",
     "text": [
      "Smoking\n",
      "0.0    3.918577\n",
      "0.1    4.031002\n",
      "0.2    4.017859\n",
      "0.3    4.023889\n",
      "0.4    4.056151\n",
      "Name: Target_Severity_Score, dtype: float64\n"
     ]
    }
   ],
   "source": [
    "#severity score was averaged by smoking status to assess its effect.\n",
    "severity_by_smoking = df.groupby(\"Smoking\")[\"Target_Severity_Score\"].mean()\n",
    "print(severity_by_smoking.head())"
   ]
  },
  {
   "cell_type": "code",
   "execution_count": 135,
   "id": "19e14b6b-cf39-4462-91f4-85768da1621b",
   "metadata": {},
   "outputs": [
    {
     "name": "stdout",
     "output_type": "stream",
     "text": [
      "Country_Region\n",
      "Australia    25439.5\n",
      "Brazil       25069.1\n",
      "Canada       24465.4\n",
      "China        24201.9\n",
      "Germany      25325.9\n",
      "Name: Survival_Years, dtype: float64\n"
     ]
    }
   ],
   "source": [
    "#total number of survival years was summed for each country.\n",
    "survival_by_country = df.groupby(\"Country_Region\")[\"Survival_Years\"].sum()\n",
    "print(survival_by_country.head())"
   ]
  },
  {
   "cell_type": "code",
   "execution_count": 136,
   "id": "9133f577-63f7-4713-9514-2120ea8a5cc6",
   "metadata": {},
   "outputs": [
    {
     "name": "stdout",
     "output_type": "stream",
     "text": [
      "Country_Region\n",
      "Canada       5.093668\n",
      "USA          5.048024\n",
      "Pakistan     5.014901\n",
      "Australia    5.011724\n",
      "UK           4.995198\n",
      "China        4.987665\n",
      "Russia       4.977756\n",
      "India        4.969762\n",
      "Germany      4.969725\n",
      "Brazil       4.950879\n",
      "Name: Genetic_Risk, dtype: float64\n"
     ]
    }
   ],
   "source": [
    "#Top 10 countries by genetic risk\n",
    "top_genetic_risk = df.groupby(\"Country_Region\")[\"Genetic_Risk\"].mean().nlargest(10)\n",
    "print(top_genetic_risk)"
   ]
  },
  {
   "cell_type": "code",
   "execution_count": 137,
   "id": "812814f3-7605-4b83-a421-c1583d78abdd",
   "metadata": {},
   "outputs": [
    {
     "name": "stdout",
     "output_type": "stream",
     "text": [
      "Year\n",
      "2015    52319.451022\n",
      "2016    52534.460695\n",
      "2017    52475.275126\n",
      "2018    52771.862176\n",
      "2019    52458.473704\n",
      "2020    52329.496771\n",
      "2021    52420.457548\n",
      "2022    52452.054220\n",
      "2023    52115.279315\n",
      "2024    52796.542251\n",
      "Name: Treatment_Cost_USD, dtype: float64\n"
     ]
    }
   ],
   "source": [
    "#average treatment cost was calculated for each year.\n",
    "cost_by_year = df.groupby(\"Year\")[\"Treatment_Cost_USD\"].mean()\n",
    "print(cost_by_year)"
   ]
  },
  {
   "cell_type": "code",
   "execution_count": 138,
   "id": "9b8ca697-7e9c-43a3-82f3-a65d91a0a013",
   "metadata": {},
   "outputs": [
    {
     "name": "stdout",
     "output_type": "stream",
     "text": [
      "Cancer_Type  Gender\n",
      "Breast       Male      2080\n",
      "             Other     2058\n",
      "             Female    2051\n",
      "Cervical     Female    2160\n",
      "             Other     2034\n",
      "Name: count, dtype: int64\n"
     ]
    }
   ],
   "source": [
    "#Gender distribution was computed within each cancer type.\n",
    "gender_by_cancer = df.groupby(\"Cancer_Type\")[\"Gender\"].value_counts()\n",
    "print(gender_by_cancer.head())"
   ]
  },
  {
   "cell_type": "code",
   "execution_count": 139,
   "id": "c275bf40-7a47-4ec5-8abc-598345f6a4de",
   "metadata": {},
   "outputs": [
    {
     "name": "stdout",
     "output_type": "stream",
     "text": [
      "Air_Pollution\n",
      "0.0    4.274000\n",
      "0.1    4.198286\n",
      "0.2    4.055000\n",
      "0.3    4.186393\n",
      "0.4    4.200364\n",
      "Name: Target_Severity_Score, dtype: float64\n"
     ]
    }
   ],
   "source": [
    "#severity score for lung cancer was averaged by pollution level.\n",
    "lung_pollution = df[df[\"Cancer_Type\"] == \"Lung\"].groupby(\"Air_Pollution\")[\"Target_Severity_Score\"].mean()\n",
    "print(lung_pollution.head())"
   ]
  },
  {
   "cell_type": "code",
   "execution_count": 140,
   "id": "f7d385d4-f078-417f-95d2-5ffbff5a00a5",
   "metadata": {},
   "outputs": [
    {
     "name": "stdout",
     "output_type": "stream",
     "text": [
      "Cancer_Stage\n",
      "Stage 0      5.015199\n",
      "Stage I      5.012990\n",
      "Stage II     4.995170\n",
      "Stage III    5.036311\n",
      "Stage IV     4.972596\n",
      "Name: Survival_Years, dtype: float64\n"
     ]
    }
   ],
   "source": [
    "#Average survival years were calculated for each cancer stage.\n",
    "survival_by_stage = df.groupby(\"Cancer_Stage\")[\"Survival_Years\"].mean()\n",
    "print(survival_by_stage)"
   ]
  },
  {
   "cell_type": "code",
   "execution_count": 141,
   "id": "4ca21967-04bb-4f75-8a80-e7486fdad9dc",
   "metadata": {},
   "outputs": [
    {
     "name": "stdout",
     "output_type": "stream",
     "text": [
      "Age\n",
      "(0, 30]       7884\n",
      "(30, 50]     14408\n",
      "(50, 70]     14116\n",
      "(70, 100]    13592\n",
      "Name: Patient_ID, dtype: int64\n"
     ]
    }
   ],
   "source": [
    "#Patients were grouped by age bins and counted.\n",
    "age_bins = pd.cut(df[\"Age\"], bins=[0, 30, 50, 70, 100])\n",
    "age_dist = df.groupby(age_bins, observed=True)[\"Patient_ID\"].count()\n",
    "print(age_dist)"
   ]
  },
  {
   "cell_type": "code",
   "execution_count": 142,
   "id": "bbbc34c3-1cd3-4ada-8aa0-5fa6947121eb",
   "metadata": {},
   "outputs": [
    {
     "data": {
      "image/png": "[encoded data removed]",
      "text/plain": [
       "<Figure size 800x600 with 1 Axes>"
      ]
     },
     "metadata": {},
     "output_type": "display_data"
    }
   ],
   "source": [
    "plt.figure(figsize=(8, 6))\n",
    "age_dist.plot(kind=\"bar\", color=\"skyblue\", edgecolor=\"black\")\n",
    "plt.title(\"Patient Count by Age Group\")\n",
    "plt.xlabel(\"Age Group\")\n",
    "plt.ylabel(\"Number of Patients\")\n",
    "plt.xticks(rotation=45)\n",
    "plt.tight_layout()\n",
    "plt.show()"
   ]
  },
  {
   "cell_type": "code",
   "execution_count": 143,
   "id": "55155d1e-a11a-4e74-a168-6b90d291e832",
   "metadata": {},
   "outputs": [
    {
     "name": "stdout",
     "output_type": "stream",
     "text": [
      "Obesity_Level\n",
      "0.0    51586.309545\n",
      "0.1    53483.577168\n",
      "0.2    53601.557196\n",
      "0.3    51900.987105\n",
      "0.4    51338.836798\n",
      "Name: Treatment_Cost_USD, dtype: float64\n"
     ]
    }
   ],
   "source": [
    "#The average treatment cost was calculated for each obesity level.\n",
    "cost_by_obesity = df.groupby(\"Obesity_Level\")[\"Treatment_Cost_USD\"].mean()\n",
    "print(cost_by_obesity.head())"
   ]
  },
  {
   "cell_type": "code",
   "execution_count": 144,
   "id": "02d1104f-abcd-44d5-93da-b89c5b914dcf",
   "metadata": {},
   "outputs": [
    {
     "name": "stdout",
     "output_type": "stream",
     "text": [
      "Country_Region  Year\n",
      "Australia       2015    515\n",
      "                2016    516\n",
      "                2017    484\n",
      "                2018    492\n",
      "                2019    525\n",
      "Name: Patient_ID, dtype: int64\n"
     ]
    }
   ],
   "source": [
    "#number of patients was counted per country and year.\n",
    "patients_by_country_year = df.groupby([\"Country_Region\", \"Year\"])[\"Patient_ID\"].count()\n",
    "print(patients_by_country_year.head())"
   ]
  },
  {
   "cell_type": "code",
   "execution_count": 145,
   "id": "f9215b22-a725-4edb-9bbd-a045104b7419",
   "metadata": {},
   "outputs": [
    {
     "name": "stdout",
     "output_type": "stream",
     "text": [
      "Cancer_Type\n",
      "Lung        53130.622060\n",
      "Prostate    52620.302254\n",
      "Leukemia    52528.469202\n",
      "Breast      52484.264228\n",
      "Liver       52460.606886\n",
      "Name: Treatment_Cost_USD, dtype: float64\n"
     ]
    }
   ],
   "source": [
    "# Top 5 cancer types with the highest average treatment cost were listed.\n",
    "top_cost_cancers = df.groupby(\"Cancer_Type\")[\"Treatment_Cost_USD\"].mean().nlargest(5)\n",
    "print(top_cost_cancers)"
   ]
  },
  {
   "cell_type": "code",
   "execution_count": 146,
   "id": "2333503f-15a7-441c-9687-78cad423ed46",
   "metadata": {},
   "outputs": [
    {
     "name": "stdout",
     "output_type": "stream",
     "text": [
      "Cancer_Type  Cancer_Stage\n",
      "Breast       Stage II        1273\n",
      "             Stage III       1270\n",
      "             Stage 0         1231\n",
      "             Stage I         1212\n",
      "             Stage IV        1203\n",
      "Name: count, dtype: int64\n"
     ]
    }
   ],
   "source": [
    "#The distribution of cancer stages was determined for each cancer type.\n",
    "stage_by_cancer = df.groupby(\"Cancer_Type\")[\"Cancer_Stage\"].value_counts()\n",
    "print(stage_by_cancer.head())"
   ]
  },
  {
   "cell_type": "code",
   "execution_count": 147,
   "id": "15439acd-8c87-4032-803d-475e1279d227",
   "metadata": {},
   "outputs": [
    {
     "name": "stdout",
     "output_type": "stream",
     "text": [
      "Gender\n",
      "Female    5.005548\n",
      "Male      4.993516\n",
      "Other     5.006129\n",
      "Name: Genetic_Risk, dtype: float64\n"
     ]
    }
   ],
   "source": [
    "#average genetic risk was calculated separately for each gender.\n",
    "genetic_by_gender = df.groupby(\"Gender\")[\"Genetic_Risk\"].mean()\n",
    "print(genetic_by_gender)"
   ]
  },
  {
   "cell_type": "code",
   "execution_count": 148,
   "id": "6dad83b3-2aaf-405d-8f69-e71372534b4e",
   "metadata": {},
   "outputs": [
    {
     "name": "stdout",
     "output_type": "stream",
     "text": [
      "Alcohol_Use\n",
      "0.0    5.379310\n",
      "0.1    4.954108\n",
      "0.2    4.994410\n",
      "0.3    5.116601\n",
      "0.4    5.001237\n",
      "Name: Survival_Years, dtype: float64\n"
     ]
    }
   ],
   "source": [
    "#Survival years were averaged by alcohol use category.\n",
    "survival_by_alcohol = df.groupby(\"Alcohol_Use\")[\"Survival_Years\"].mean()\n",
    "print(survival_by_alcohol.head())"
   ]
  },
  {
   "cell_type": "code",
   "execution_count": 149,
   "id": "029f2c10-e2ad-4ed7-8754-22ebeec7cf02",
   "metadata": {},
   "outputs": [
    {
     "name": "stdout",
     "output_type": "stream",
     "text": [
      "Country_Region\n",
      "Australia    5092\n",
      "UK           5060\n",
      "USA          5060\n",
      "India        5040\n",
      "Germany      5024\n",
      "Name: count, dtype: int64\n"
     ]
    }
   ],
   "source": [
    "#Patients were counted for each country.\n",
    "patients_by_country = df[\"Country_Region\"].value_counts()\n",
    "print(patients_by_country.head())"
   ]
  },
  {
   "cell_type": "code",
   "execution_count": 150,
   "id": "df1e284f-b5ae-463a-a616-005c77fb7dd9",
   "metadata": {},
   "outputs": [
    {
     "name": "stdout",
     "output_type": "stream",
     "text": [
      "Age      Cancer_Type\n",
      "(0, 30]  Leukemia       1026\n",
      "         Liver          1016\n",
      "         Skin           1005\n",
      "         Breast          990\n",
      "         Prostate        988\n",
      "Name: count, dtype: int64\n"
     ]
    }
   ],
   "source": [
    "#Cancer type frequency was calculated for each age category.\n",
    "age_cancer_dist = df.groupby(\n",
    "    pd.cut(df[\"Age\"], bins=[0, 30, 50, 70, 100]), \n",
    "    observed=False\n",
    ")[\"Cancer_Type\"].value_counts()\n",
    "print(age_cancer_dist.head())\n"
   ]
  },
  {
   "cell_type": "code",
   "execution_count": 151,
   "id": "78c0114e-4c06-45c0-b528-1678a7da8091",
   "metadata": {},
   "outputs": [
    {
     "name": "stdout",
     "output_type": "stream",
     "text": [
      "Country_Region\n",
      "Australia    52621.637121\n",
      "Brazil       52540.892254\n",
      "Canada       52584.225541\n",
      "China        52899.413814\n",
      "Germany      52769.251439\n",
      "Name: Treatment_Cost_USD, dtype: float64\n"
     ]
    }
   ],
   "source": [
    "#The mean treatment cost was calculated for each country.\n",
    "cost_by_country = df.groupby(\"Country_Region\")[\"Treatment_Cost_USD\"].mean()\n",
    "print(cost_by_country.head())"
   ]
  },
  {
   "cell_type": "code",
   "execution_count": 152,
   "id": "1b6a7256-4975-4acc-9cc5-baf8a83d0365",
   "metadata": {},
   "outputs": [
    {
     "name": "stdout",
     "output_type": "stream",
     "text": [
      "Smoking\n",
      "0.0    3.941290\n",
      "0.1    4.428333\n",
      "0.2    3.883846\n",
      "0.3    4.004688\n",
      "0.4    4.076901\n",
      "Name: Target_Severity_Score, dtype: float64\n"
     ]
    }
   ],
   "source": [
    "#severity of lung cancer was analyzed based on smoking habits.\n",
    "lung_smoking = df[df[\"Cancer_Type\"] == \"Lung\"].groupby(\"Smoking\")[\"Target_Severity_Score\"].mean()\n",
    "print(lung_smoking.head())"
   ]
  },
  {
   "cell_type": "code",
   "execution_count": 153,
   "id": "66e21180-43b9-43af-9816-a9cc7c453a32",
   "metadata": {},
   "outputs": [
    {
     "data": {
      "image/png": "[encoded data removed]",
      "text/plain": [
       "<Figure size 640x480 with 1 Axes>"
      ]
     },
     "metadata": {},
     "output_type": "display_data"
    }
   ],
   "source": [
    "df.groupby(\"Cancer_Stage\")[\"Treatment_Cost_USD\"].mean().plot(kind=\"bar\")\n",
    "plt.title(\"Average Treatment Cost by Cancer Stage\")\n",
    "plt.ylabel(\"Cost (USD)\")\n",
    "plt.show()"
   ]
  },
  {
   "cell_type": "code",
   "execution_count": 154,
   "id": "fe9f9c61-458d-4623-8aeb-cb3955c78723",
   "metadata": {},
   "outputs": [
    {
     "data": {
      "image/png": "[encoded data removed]",
      "text/plain": [
       "<Figure size 1000x600 with 1 Axes>"
      ]
     },
     "metadata": {},
     "output_type": "display_data"
    }
   ],
   "source": [
    "#Cancer Type Frequency by Age Group\n",
    "age_cancer_df = age_cancer_dist.unstack().fillna(0)\n",
    "age_cancer_df.plot(kind=\"bar\", stacked=True, figsize=(10, 6))\n",
    "plt.title(\"Cancer Type Frequency by Age Group\")\n",
    "plt.xlabel(\"Age Group\")\n",
    "plt.ylabel(\"Number of Cases\")\n",
    "plt.legend(title=\"Cancer Type\", bbox_to_anchor=(1.05, 1), loc=\"upper left\")\n",
    "plt.tight_layout()\n",
    "plt.show()"
   ]
  }
 ],
 "metadata": {
  "kernelspec": {
   "display_name": "Python 3 (ipykernel)",
   "language": "python",
   "name": "python3"
  },
  "language_info": {
   "codemirror_mode": {
    "name": "ipython",
    "version": 3
   },
   "file_extension": ".py",
   "mimetype": "text/x-python",
   "name": "python",
   "nbconvert_exporter": "python",
   "pygments_lexer": "ipython3",
   "version": "3.12.4"
  }
 },
 "nbformat": 4,
 "nbformat_minor": 5
}
