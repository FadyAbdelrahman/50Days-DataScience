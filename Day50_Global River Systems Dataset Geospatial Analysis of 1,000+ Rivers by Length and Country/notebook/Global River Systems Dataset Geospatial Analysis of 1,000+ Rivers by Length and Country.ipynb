{
 "cells": [
  {
   "cell_type": "code",
   "execution_count": 355,
   "id": "9d0d4418-945f-482c-b2a3-1645089ba8f9",
   "metadata": {},
   "outputs": [],
   "source": [
    "import pandas as pd\n",
    "import matplotlib.pyplot as plt\n",
    "import seaborn as sns\n",
    "import folium"
   ]
  },
  {
   "cell_type": "code",
   "execution_count": 356,
   "id": "4fff080d-f721-48f1-a71f-3191201355c6",
   "metadata": {},
   "outputs": [
    {
     "name": "stdout",
     "output_type": "stream",
     "text": [
      "  river_name  river_length_km    source_lat    source_lon     mouth_lat  \\\n",
      "0     Rungwa       302.552145 -8.038326e+05  3.562224e+06 -8.038435e+05   \n",
      "1    Ligonha       339.003357 -1.892915e+06  4.355690e+06 -1.703609e+06   \n",
      "2     Dongwe       259.307674 -1.630475e+06  2.842354e+06 -1.559692e+06   \n",
      "3      Cuito       764.221869 -2.024344e+06  2.309879e+06 -1.419870e+06   \n",
      "4      Bagoé       466.222413  1.042907e+06 -7.730508e+05  1.296021e+06   \n",
      "\n",
      "      mouth_lon             countries_passed continent  \\\n",
      "0  3.562224e+06  United Republic of Tanzania    Africa   \n",
      "1  4.160865e+06                   Mozambique    Africa   \n",
      "2  2.664439e+06                       Zambia    Africa   \n",
      "3  2.041473e+06              Angola, Namibia    Africa   \n",
      "4 -7.303820e+05            Ivory Coast, Mali    Africa   \n",
      "\n",
      "                  main_country length_category  \n",
      "0  United Republic of Tanzania           Short  \n",
      "1                   Mozambique           Short  \n",
      "2                       Zambia           Short  \n",
      "3                       Angola          Medium  \n",
      "4                         Mali           Short  \n",
      "<class 'pandas.core.frame.DataFrame'>\n",
      "RangeIndex: 1387 entries, 0 to 1386\n",
      "Data columns (total 10 columns):\n",
      " #   Column            Non-Null Count  Dtype  \n",
      "---  ------            --------------  -----  \n",
      " 0   river_name        1387 non-null   object \n",
      " 1   river_length_km   1387 non-null   float64\n",
      " 2   source_lat        1387 non-null   float64\n",
      " 3   source_lon        1387 non-null   float64\n",
      " 4   mouth_lat         1387 non-null   float64\n",
      " 5   mouth_lon         1387 non-null   float64\n",
      " 6   countries_passed  1387 non-null   object \n",
      " 7   continent         1387 non-null   object \n",
      " 8   main_country      1387 non-null   object \n",
      " 9   length_category   1387 non-null   object \n",
      "dtypes: float64(5), object(5)\n",
      "memory usage: 108.5+ KB\n",
      "None\n"
     ]
    }
   ],
   "source": [
    "df = pd.read_csv('../data/global_rivers_dataset.csv')\n",
    "print(df.head())\n",
    "print(df.info())"
   ]
  },
  {
   "cell_type": "code",
   "execution_count": 357,
   "id": "796aaf6c-b674-4491-8652-073fb144356d",
   "metadata": {},
   "outputs": [
    {
     "name": "stdout",
     "output_type": "stream",
     "text": [
      "Missing values:\n",
      " river_name          0\n",
      "river_length_km     0\n",
      "source_lat          0\n",
      "source_lon          0\n",
      "mouth_lat           0\n",
      "mouth_lon           0\n",
      "countries_passed    0\n",
      "continent           0\n",
      "main_country        0\n",
      "length_category     0\n",
      "dtype: int64\n"
     ]
    }
   ],
   "source": [
    "# Missing values are checked for each column\n",
    "print(\"Missing values:\\n\", df.isna().sum())"
   ]
  },
  {
   "cell_type": "code",
   "execution_count": 358,
   "id": "ed144749-86c7-4505-a057-bc312f2e68da",
   "metadata": {},
   "outputs": [
    {
     "name": "stdout",
     "output_type": "stream",
     "text": [
      "continent\n",
      "North America    330\n",
      "Europe           319\n",
      "Asia             268\n",
      "Africa           218\n",
      "South America    149\n",
      "Oceania          103\n",
      "Name: count, dtype: int64\n"
     ]
    }
   ],
   "source": [
    "#number of rivers in each continent\n",
    "river_count_by_continent = df[\"continent\"].value_counts()\n",
    "print(river_count_by_continent)"
   ]
  },
  {
   "cell_type": "code",
   "execution_count": 359,
   "id": "7c85935b-31e9-402b-b227-3bf5937aa43b",
   "metadata": {},
   "outputs": [
    {
     "name": "stdout",
     "output_type": "stream",
     "text": [
      "continent\n",
      "Africa           496.266690\n",
      "Asia             588.629933\n",
      "Europe           879.656895\n",
      "North America    545.362963\n",
      "Oceania          208.962998\n",
      "South America    702.811497\n",
      "Name: river_length_km, dtype: float64\n"
     ]
    }
   ],
   "source": [
    "#average river length for each continent\n",
    "avg_length_by_continent = df.groupby(\"continent\")[\"river_length_km\"].mean()\n",
    "print(avg_length_by_continent)"
   ]
  },
  {
   "cell_type": "code",
   "execution_count": 360,
   "id": "f5f7ad1d-c307-4de7-a881-543f578e5c9c",
   "metadata": {},
   "outputs": [
    {
     "name": "stdout",
     "output_type": "stream",
     "text": [
      "          river_name  river_length_km\n",
      "705             Lena      8546.624429\n",
      "1365           Yukon      6316.047696\n",
      "540           Olenëk      5798.862238\n",
      "578   Lower Tunguska      5505.924178\n",
      "616           Kolyma      4960.321130\n",
      "644            Huang      4609.768331\n",
      "639            Niger      4589.678489\n",
      "499           Vilyuy      4430.012600\n",
      "608          Yenisey      4208.033832\n",
      "601            Aldan      4172.429459\n"
     ]
    }
   ],
   "source": [
    "#the top 10 longest rivers\n",
    "top_rivers_by_length = df.nlargest(10, \"river_length_km\")[[\"river_name\", \"river_length_km\"]]\n",
    "print(top_rivers_by_length)"
   ]
  },
  {
   "cell_type": "code",
   "execution_count": 361,
   "id": "3d159f41-aa64-466d-8581-b189e110f03b",
   "metadata": {},
   "outputs": [
    {
     "name": "stdout",
     "output_type": "stream",
     "text": [
      "length_category\n",
      "Short     815\n",
      "Medium    513\n",
      "Long       59\n",
      "Name: count, dtype: int64\n"
     ]
    }
   ],
   "source": [
    "#number of rivers in each length category\n",
    "length_cat_count = df[\"length_category\"].value_counts()\n",
    "print(length_cat_count)"
   ]
  },
  {
   "cell_type": "code",
   "execution_count": 362,
   "id": "2885c500-2170-4a8d-85e0-5c4967f70d2b",
   "metadata": {},
   "outputs": [
    {
     "name": "stdout",
     "output_type": "stream",
     "text": [
      "                 source_lat    source_lon\n",
      "continent                                \n",
      "Africa        -1.824473e+05  2.413865e+06\n",
      "Asia           3.515053e+06  1.041582e+07\n",
      "Europe         7.683393e+06  5.681488e+06\n",
      "North America  5.467524e+06 -1.099083e+07\n",
      "Oceania       -4.138989e+06  1.776004e+07\n",
      "South America -1.689703e+06 -6.768312e+06\n"
     ]
    }
   ],
   "source": [
    "#average source coordinates per continent\n",
    "avg_source_coords = df.groupby(\"continent\")[[\"source_lat\", \"source_lon\"]].mean()\n",
    "print(avg_source_coords)"
   ]
  },
  {
   "cell_type": "code",
   "execution_count": 363,
   "id": "e43d1504-7ebb-4b09-b7e6-a1da63483847",
   "metadata": {},
   "outputs": [
    {
     "name": "stdout",
     "output_type": "stream",
     "text": [
      "main_country\n",
      "Afghanistan     3613.683543\n",
      "Albania          391.607009\n",
      "Angola          5799.295541\n",
      "Argentina      17239.291859\n",
      "Australia      11557.740653\n",
      "                   ...     \n",
      "Uzbekistan      2969.954047\n",
      "Venezuela       5808.842085\n",
      "Vietnam         1857.290645\n",
      "Zambia          6546.558769\n",
      "Zimbabwe        1867.081120\n",
      "Name: river_length_km, Length: 123, dtype: float64\n"
     ]
    }
   ],
   "source": [
    "#Total river length per main country\n",
    "total_length_by_country = df.groupby(\"main_country\")[\"river_length_km\"].sum()\n",
    "print(total_length_by_country)"
   ]
  },
  {
   "cell_type": "code",
   "execution_count": 364,
   "id": "8a9e5275-0dd0-4d32-9ff9-578e771dd602",
   "metadata": {},
   "outputs": [
    {
     "name": "stdout",
     "output_type": "stream",
     "text": [
      "countries_passed\n",
      "1    1106\n",
      "2     214\n",
      "3      52\n",
      "4      11\n",
      "5       2\n",
      "7       1\n",
      "6       1\n",
      "Name: count, dtype: int64\n"
     ]
    }
   ],
   "source": [
    "#number of countries they pass through\n",
    "countries_passed_count = df[\"countries_passed\"].str.split(\", \").apply(len).value_counts()\n",
    "print(countries_passed_count)"
   ]
  },
  {
   "cell_type": "code",
   "execution_count": 365,
   "id": "3a5998a4-99f1-4974-9ddd-fc24f4901661",
   "metadata": {},
   "outputs": [
    {
     "name": "stdout",
     "output_type": "stream",
     "text": [
      "river_name                                                    Zambezi\n",
      "countries_passed    Angola, Botswana, Democratic Republic of the C...\n",
      "Name: 648, dtype: object\n"
     ]
    }
   ],
   "source": [
    "#River that passes through the highest number of countries\n",
    "max_countries_river = df.loc[df[\"countries_passed\"].str.split(\", \").apply(len).idxmax(), [\"river_name\", \"countries_passed\"]]\n",
    "print(max_countries_river)"
   ]
  },
  {
   "cell_type": "code",
   "execution_count": 366,
   "id": "1a629eb5-5d39-4592-a1c0-4ff73cd182ec",
   "metadata": {},
   "outputs": [
    {
     "name": "stdout",
     "output_type": "stream",
     "text": [
      "Average River Length in Africa: 496.27 km\n"
     ]
    }
   ],
   "source": [
    "#average length of rivers in Africa\n",
    "avg_length_africa = df[df[\"continent\"] == \"Africa\"][\"river_length_km\"].mean()\n",
    "print(f\"Average River Length in Africa: {avg_length_africa:.2f} km\")"
   ]
  },
  {
   "cell_type": "code",
   "execution_count": 367,
   "id": "1516d7a6-442b-46fc-bd5d-b64321927f35",
   "metadata": {},
   "outputs": [
    {
     "data": {
      "image/png": "[encoded data removed]",
      "text/plain": [
       "<Figure size 640x480 with 1 Axes>"
      ]
     },
     "metadata": {},
     "output_type": "display_data"
    }
   ],
   "source": [
    "df.groupby(\"continent\")[\"river_length_km\"].mean().plot(kind=\"bar\")\n",
    "plt.title(\"Average River Length by Continent\")\n",
    "plt.xlabel(\"Continent\")\n",
    "plt.ylabel(\"Average Length (km)\")\n",
    "plt.show()"
   ]
  },
  {
   "cell_type": "code",
   "execution_count": 368,
   "id": "47413b78-740e-4098-be38-d9d267bac011",
   "metadata": {},
   "outputs": [
    {
     "name": "stdout",
     "output_type": "stream",
     "text": [
      "main_country\n",
      "Russia                      173\n",
      "United States of America    161\n",
      "Canada                      117\n",
      "China                       110\n",
      "Brazil                       75\n",
      "                           ... \n",
      "Guinea                        1\n",
      "Equatorial Guinea             1\n",
      "Jordan                        1\n",
      "Mauritania                    1\n",
      "Honduras                      1\n",
      "Name: count, Length: 123, dtype: int64\n"
     ]
    }
   ],
   "source": [
    "#rivers by main country\n",
    "main_country_count = df[\"main_country\"].value_counts()\n",
    "print(main_country_count)"
   ]
  },
  {
   "cell_type": "code",
   "execution_count": 369,
   "id": "7cf3b0c1-2023-4391-a4f5-ae8d86150199",
   "metadata": {},
   "outputs": [
    {
     "name": "stdout",
     "output_type": "stream",
     "text": [
      "                  mouth_lat     mouth_lon\n",
      "continent                                \n",
      "Africa        -1.858833e+05  2.392007e+06\n",
      "Asia           3.460783e+06  1.044506e+07\n",
      "Europe         7.777293e+06  5.710170e+06\n",
      "North America  5.435083e+06 -1.095321e+07\n",
      "Oceania       -4.124674e+06  1.773346e+07\n",
      "South America -1.618015e+06 -6.622104e+06\n"
     ]
    }
   ],
   "source": [
    "#average mouth coordinates per continent\n",
    "avg_mouth_coords = df.groupby(\"continent\")[[\"mouth_lat\", \"mouth_lon\"]].mean()\n",
    "print(avg_mouth_coords)"
   ]
  },
  {
   "cell_type": "code",
   "execution_count": 370,
   "id": "32c6552b-061b-4e22-a81a-000be89bfbb0",
   "metadata": {},
   "outputs": [
    {
     "name": "stdout",
     "output_type": "stream",
     "text": [
      "Rivers Longer than 500 km: 572\n"
     ]
    }
   ],
   "source": [
    "#Number of rivers longer than 500 km\n",
    "long_rivers_count = len(df[df[\"river_length_km\"] > 500])\n",
    "print(f\"Rivers Longer than 500 km: {long_rivers_count}\")"
   ]
  },
  {
   "cell_type": "code",
   "execution_count": 371,
   "id": "76e5eae5-2f6a-4976-a8d6-bc07917fe16f",
   "metadata": {},
   "outputs": [
    {
     "name": "stdout",
     "output_type": "stream",
     "text": [
      "length_category\n",
      "Long      3082.465560\n",
      "Medium     939.079392\n",
      "Short      232.083673\n",
      "Name: river_length_km, dtype: float64\n"
     ]
    }
   ],
   "source": [
    "#Average river length for each length category\n",
    "avg_length_by_cat = df.groupby(\"length_category\")[\"river_length_km\"].mean()\n",
    "print(avg_length_by_cat)"
   ]
  },
  {
   "cell_type": "code",
   "execution_count": 372,
   "id": "6c905dee-72f5-44ef-8e18-e8a63656a94c",
   "metadata": {},
   "outputs": [
    {
     "data": {
      "image/png": "[encoded data removed]",
      "text/plain": [
       "<Figure size 640x480 with 1 Axes>"
      ]
     },
     "metadata": {},
     "output_type": "display_data"
    }
   ],
   "source": [
    "df[\"length_category\"].value_counts().plot(kind=\"pie\", autopct='%1.1f%%')\n",
    "plt.title(\"River Length Category Distribution\")\n",
    "plt.show()"
   ]
  },
  {
   "cell_type": "code",
   "execution_count": 480,
   "id": "e26f7171-613d-4c8a-bdb1-9c3c0eabd3c5",
   "metadata": {},
   "outputs": [
    {
     "data": {
      "image/png": "[encoded data removed]",
      "text/plain": [
       "<Figure size 640x480 with 1 Axes>"
      ]
     },
     "metadata": {},
     "output_type": "display_data"
    }
   ],
   "source": [
    "top_idx = df.groupby(\"continent\")[\"river_length_km\"].idxmax()\n",
    "top_rivers_continent = df.loc[top_idx]\n",
    "\n",
    "top_rivers_continent.plot(x=\"river_name\", y=\"river_length_km\", kind=\"bar\")\n",
    "plt.title(\"Longest River by Continent\")\n",
    "plt.xlabel(\"River Name\")\n",
    "plt.ylabel(\"Length (km)\")\n",
    "plt.xticks(rotation=45)\n",
    "plt.show()"
   ]
  },
  {
   "cell_type": "code",
   "execution_count": 482,
   "id": "7420cd09-403f-4eb4-bd20-0b90285e3160",
   "metadata": {
    "scrolled": true
   },
   "outputs": [
    {
     "name": "stdout",
     "output_type": "stream",
     "text": [
      "continent\n",
      "Europe           879.656895\n",
      "South America    702.811497\n",
      "Asia             588.629933\n",
      "North America    545.362963\n",
      "Africa           496.266690\n",
      "Name: river_length_km, dtype: float64\n"
     ]
    }
   ],
   "source": [
    "#Top 5 continents by average river length\n",
    "top_continents_by_length = df.groupby(\"continent\")[\"river_length_km\"].mean().nlargest(5)\n",
    "print(top_continents_by_length)"
   ]
  },
  {
   "cell_type": "code",
   "execution_count": 375,
   "id": "d99bd36c-9c0d-467b-b3ff-8cbca3c67462",
   "metadata": {},
   "outputs": [
    {
     "name": "stdout",
     "output_type": "stream",
     "text": [
      "Rungwa Average Coordinates: source_lat   -8.038326e+05\n",
      "source_lon    3.562224e+06\n",
      "mouth_lat    -8.038435e+05\n",
      "mouth_lon     3.562224e+06\n",
      "dtype: float64\n"
     ]
    }
   ],
   "source": [
    "#Average coordinates (source and mouth) for a specific river\n",
    "rungwa_coords = df[df[\"river_name\"] == \"Rungwa\"][[\"source_lat\", \"source_lon\", \"mouth_lat\", \"mouth_lon\"]].mean()\n",
    "print(f\"Rungwa Average Coordinates: {rungwa_coords}\")"
   ]
  },
  {
   "cell_type": "code",
   "execution_count": 376,
   "id": "a4b8b8d7-afa1-47b0-b9cf-6c535d5d4b88",
   "metadata": {},
   "outputs": [
    {
     "name": "stdout",
     "output_type": "stream",
     "text": [
      "continent\n",
      "Africa           108186.138471\n",
      "Asia             157752.822091\n",
      "Europe           280610.549447\n",
      "North America    179969.777697\n",
      "Oceania           21523.188836\n",
      "South America    104718.912992\n",
      "Name: river_length_km, dtype: float64\n"
     ]
    }
   ],
   "source": [
    "#Total river length per continent\n",
    "total_length_by_continent = df.groupby(\"continent\")[\"river_length_km\"].sum()\n",
    "print(total_length_by_continent)"
   ]
  },
  {
   "cell_type": "code",
   "execution_count": 377,
   "id": "358977f0-8457-48ce-8329-6221ae4f10be",
   "metadata": {},
   "outputs": [
    {
     "name": "stdout",
     "output_type": "stream",
     "text": [
      "continent\n",
      "Africa            3.145794\n",
      "Asia              8.648038\n",
      "Europe            3.933863\n",
      "North America     9.987952\n",
      "Oceania           3.230623\n",
      "South America    10.815222\n",
      "Name: river_length_km, dtype: float64\n"
     ]
    }
   ],
   "source": [
    "#Minimum river length in each continent\n",
    "min_length_by_continent = df.groupby(\"continent\")[\"river_length_km\"].min()\n",
    "print(min_length_by_continent)"
   ]
  },
  {
   "cell_type": "code",
   "execution_count": 378,
   "id": "bd7d2eeb-2348-481c-9d02-0cf573669a1e",
   "metadata": {},
   "outputs": [
    {
     "name": "stdout",
     "output_type": "stream",
     "text": [
      "continent\n",
      "Africa           1.504587\n",
      "Asia             1.332090\n",
      "Europe           1.304075\n",
      "North America    1.087879\n",
      "Oceania          1.019417\n",
      "South America    1.288591\n",
      "Name: countries_passed, dtype: float64\n"
     ]
    }
   ],
   "source": [
    "#Average number of countries rivers pass through in each continent\n",
    "avg_countries_by_continent = df.groupby(\"continent\")[\"countries_passed\"].apply(lambda x: x.str.split(\", \").apply(len).mean())\n",
    "print(avg_countries_by_continent)"
   ]
  },
  {
   "cell_type": "code",
   "execution_count": 379,
   "id": "04920e2b-28b9-4f83-9881-83fae52204f0",
   "metadata": {},
   "outputs": [
    {
     "name": "stdout",
     "output_type": "stream",
     "text": [
      "Medium Length Rivers: 513\n"
     ]
    }
   ],
   "source": [
    "#rivers classified as Medium in length category\n",
    "hybrid_rivers_count = len(df[df[\"length_category\"] == \"Medium\"])\n",
    "print(f\"Medium Length Rivers: {hybrid_rivers_count}\")"
   ]
  },
  {
   "cell_type": "code",
   "execution_count": 380,
   "id": "e236e71b-6542-4905-b317-8e35eac68e94",
   "metadata": {},
   "outputs": [
    {
     "name": "stdout",
     "output_type": "stream",
     "text": [
      "Average Source Coordinates for Rivers > 300 km: source_lat    3.741821e+06\n",
      "source_lon    1.285403e+06\n",
      "dtype: float64\n"
     ]
    }
   ],
   "source": [
    "#Average source coordinates for rivers longer than 300 km\n",
    "long_rivers_source = df[df[\"river_length_km\"] > 300][[\"source_lat\", \"source_lon\"]].mean()\n",
    "print(f\"Average Source Coordinates for Rivers > 300 km: {long_rivers_source}\")"
   ]
  },
  {
   "cell_type": "code",
   "execution_count": 450,
   "id": "89777953-721c-413f-8c60-88d25b43059e",
   "metadata": {},
   "outputs": [
    {
     "name": "stdout",
     "output_type": "stream",
     "text": [
      "    river_name  river_length_km\n",
      "696       Nile      2561.763539\n"
     ]
    }
   ],
   "source": [
    "# Longest river in Sudan\n",
    "sudan_river = df[df[\"main_country\"] == \"Sudan\"].nlargest(1, \"river_length_km\")[[\"river_name\", \"river_length_km\"]]\n",
    "print(sudan_river)"
   ]
  },
  {
   "cell_type": "code",
   "execution_count": 452,
   "id": "f45aac2c-a408-49be-9a81-4ae671147b65",
   "metadata": {},
   "outputs": [
    {
     "data": {
      "text/html": [
       "<div>\n",
       "<style scoped>\n",
       "    .dataframe tbody tr th:only-of-type {\n",
       "        vertical-align: middle;\n",
       "    }\n",
       "\n",
       "    .dataframe tbody tr th {\n",
       "        vertical-align: top;\n",
       "    }\n",
       "\n",
       "    .dataframe thead th {\n",
       "        text-align: right;\n",
       "    }\n",
       "</style>\n",
       "<table border=\"1\" class=\"dataframe\">\n",
       "  <thead>\n",
       "    <tr style=\"text-align: right;\">\n",
       "      <th></th>\n",
       "      <th>river_name</th>\n",
       "      <th>river_length_km</th>\n",
       "      <th>source_lat</th>\n",
       "      <th>source_lon</th>\n",
       "      <th>mouth_lat</th>\n",
       "      <th>mouth_lon</th>\n",
       "      <th>countries_passed</th>\n",
       "      <th>continent</th>\n",
       "      <th>main_country</th>\n",
       "      <th>length_category</th>\n",
       "      <th>lat_diff</th>\n",
       "      <th>lon_diff</th>\n",
       "    </tr>\n",
       "  </thead>\n",
       "  <tbody>\n",
       "    <tr>\n",
       "      <th>48</th>\n",
       "      <td>Kangen</td>\n",
       "      <td>284.082958</td>\n",
       "      <td>6.008701e+05</td>\n",
       "      <td>3.872592e+06</td>\n",
       "      <td>7.400657e+05</td>\n",
       "      <td>3.699009e+06</td>\n",
       "      <td>South Sudan</td>\n",
       "      <td>Africa</td>\n",
       "      <td>South Sudan</td>\n",
       "      <td>Short</td>\n",
       "      <td>1.391957e+05</td>\n",
       "      <td>173583.395434</td>\n",
       "    </tr>\n",
       "    <tr>\n",
       "      <th>91</th>\n",
       "      <td>Pibor</td>\n",
       "      <td>151.660385</td>\n",
       "      <td>8.749342e+05</td>\n",
       "      <td>3.673190e+06</td>\n",
       "      <td>7.400657e+05</td>\n",
       "      <td>3.699009e+06</td>\n",
       "      <td>Ethiopia, South Sudan</td>\n",
       "      <td>Africa</td>\n",
       "      <td>South Sudan</td>\n",
       "      <td>Short</td>\n",
       "      <td>1.348685e+05</td>\n",
       "      <td>25818.729554</td>\n",
       "    </tr>\n",
       "    <tr>\n",
       "      <th>350</th>\n",
       "      <td>Akobo</td>\n",
       "      <td>446.249725</td>\n",
       "      <td>7.469433e+05</td>\n",
       "      <td>3.991152e+06</td>\n",
       "      <td>8.783006e+05</td>\n",
       "      <td>3.672347e+06</td>\n",
       "      <td>Ethiopia, South Sudan</td>\n",
       "      <td>Africa</td>\n",
       "      <td>Ethiopia</td>\n",
       "      <td>Short</td>\n",
       "      <td>1.313572e+05</td>\n",
       "      <td>318804.237012</td>\n",
       "    </tr>\n",
       "    <tr>\n",
       "      <th>446</th>\n",
       "      <td>Sobat</td>\n",
       "      <td>387.947267</td>\n",
       "      <td>9.364820e+05</td>\n",
       "      <td>3.695905e+06</td>\n",
       "      <td>9.364820e+05</td>\n",
       "      <td>3.696671e+06</td>\n",
       "      <td>Ethiopia, South Sudan</td>\n",
       "      <td>Africa</td>\n",
       "      <td>South Sudan</td>\n",
       "      <td>Short</td>\n",
       "      <td>0.000000e+00</td>\n",
       "      <td>766.408604</td>\n",
       "    </tr>\n",
       "    <tr>\n",
       "      <th>492</th>\n",
       "      <td>Atbara</td>\n",
       "      <td>38.629631</td>\n",
       "      <td>1.634626e+06</td>\n",
       "      <td>3.995859e+06</td>\n",
       "      <td>1.670769e+06</td>\n",
       "      <td>3.996544e+06</td>\n",
       "      <td>Sudan</td>\n",
       "      <td>Africa</td>\n",
       "      <td>Sudan</td>\n",
       "      <td>Short</td>\n",
       "      <td>3.614317e+04</td>\n",
       "      <td>684.875773</td>\n",
       "    </tr>\n",
       "    <tr>\n",
       "      <th>493</th>\n",
       "      <td>Atbara</td>\n",
       "      <td>431.533965</td>\n",
       "      <td>1.670769e+06</td>\n",
       "      <td>3.996544e+06</td>\n",
       "      <td>1.792954e+06</td>\n",
       "      <td>3.961126e+06</td>\n",
       "      <td>Sudan</td>\n",
       "      <td>Africa</td>\n",
       "      <td>Sudan</td>\n",
       "      <td>Short</td>\n",
       "      <td>1.221846e+05</td>\n",
       "      <td>35417.861426</td>\n",
       "    </tr>\n",
       "    <tr>\n",
       "      <th>548</th>\n",
       "      <td>Setit</td>\n",
       "      <td>322.559797</td>\n",
       "      <td>1.549675e+06</td>\n",
       "      <td>4.209730e+06</td>\n",
       "      <td>1.634626e+06</td>\n",
       "      <td>3.995859e+06</td>\n",
       "      <td>Eritrea, Ethiopia, Sudan</td>\n",
       "      <td>Africa</td>\n",
       "      <td>Ethiopia</td>\n",
       "      <td>Short</td>\n",
       "      <td>8.495141e+04</td>\n",
       "      <td>213871.484582</td>\n",
       "    </tr>\n",
       "    <tr>\n",
       "      <th>555</th>\n",
       "      <td>Bahr el  Zeraf</td>\n",
       "      <td>226.134951</td>\n",
       "      <td>1.047039e+06</td>\n",
       "      <td>3.466385e+06</td>\n",
       "      <td>8.615312e+05</td>\n",
       "      <td>3.399223e+06</td>\n",
       "      <td>South Sudan</td>\n",
       "      <td>Africa</td>\n",
       "      <td>South Sudan</td>\n",
       "      <td>Short</td>\n",
       "      <td>1.855080e+05</td>\n",
       "      <td>67161.309973</td>\n",
       "    </tr>\n",
       "    <tr>\n",
       "      <th>653</th>\n",
       "      <td>El Bahr el Azraq</td>\n",
       "      <td>75.580518</td>\n",
       "      <td>1.257378e+06</td>\n",
       "      <td>3.871423e+06</td>\n",
       "      <td>1.312311e+06</td>\n",
       "      <td>3.827124e+06</td>\n",
       "      <td>Sudan</td>\n",
       "      <td>Africa</td>\n",
       "      <td>Sudan</td>\n",
       "      <td>Short</td>\n",
       "      <td>5.493278e+04</td>\n",
       "      <td>44299.504393</td>\n",
       "    </tr>\n",
       "    <tr>\n",
       "      <th>654</th>\n",
       "      <td>El Bahr el Azraq</td>\n",
       "      <td>816.859292</td>\n",
       "      <td>1.128225e+06</td>\n",
       "      <td>3.935236e+06</td>\n",
       "      <td>1.750706e+06</td>\n",
       "      <td>3.616644e+06</td>\n",
       "      <td>Ethiopia, Sudan</td>\n",
       "      <td>Africa</td>\n",
       "      <td>Sudan</td>\n",
       "      <td>Medium</td>\n",
       "      <td>6.224805e+05</td>\n",
       "      <td>318592.251654</td>\n",
       "    </tr>\n",
       "    <tr>\n",
       "      <th>696</th>\n",
       "      <td>Nile</td>\n",
       "      <td>2561.763539</td>\n",
       "      <td>2.081417e+06</td>\n",
       "      <td>3.750717e+06</td>\n",
       "      <td>3.498038e+06</td>\n",
       "      <td>3.477277e+06</td>\n",
       "      <td>Egypt, Sudan</td>\n",
       "      <td>Africa</td>\n",
       "      <td>Sudan</td>\n",
       "      <td>Long</td>\n",
       "      <td>1.416622e+06</td>\n",
       "      <td>273439.370305</td>\n",
       "    </tr>\n",
       "    <tr>\n",
       "      <th>697</th>\n",
       "      <td>Nile</td>\n",
       "      <td>421.299736</td>\n",
       "      <td>2.448940e+06</td>\n",
       "      <td>3.460987e+06</td>\n",
       "      <td>2.734540e+06</td>\n",
       "      <td>3.660117e+06</td>\n",
       "      <td>Egypt, Sudan</td>\n",
       "      <td>Africa</td>\n",
       "      <td>Egypt</td>\n",
       "      <td>Short</td>\n",
       "      <td>2.856006e+05</td>\n",
       "      <td>199130.348887</td>\n",
       "    </tr>\n",
       "    <tr>\n",
       "      <th>702</th>\n",
       "      <td>Albert Nile</td>\n",
       "      <td>193.619037</td>\n",
       "      <td>2.655347e+05</td>\n",
       "      <td>3.503765e+06</td>\n",
       "      <td>3.998445e+05</td>\n",
       "      <td>3.563990e+06</td>\n",
       "      <td>South Sudan, Uganda</td>\n",
       "      <td>Africa</td>\n",
       "      <td>Uganda</td>\n",
       "      <td>Short</td>\n",
       "      <td>1.343099e+05</td>\n",
       "      <td>60225.583886</td>\n",
       "    </tr>\n",
       "    <tr>\n",
       "      <th>707</th>\n",
       "      <td>Bahr el Jebel</td>\n",
       "      <td>414.604245</td>\n",
       "      <td>3.998445e+05</td>\n",
       "      <td>3.563990e+06</td>\n",
       "      <td>7.570031e+05</td>\n",
       "      <td>3.467417e+06</td>\n",
       "      <td>South Sudan</td>\n",
       "      <td>Africa</td>\n",
       "      <td>South Sudan</td>\n",
       "      <td>Short</td>\n",
       "      <td>3.571586e+05</td>\n",
       "      <td>96572.919576</td>\n",
       "    </tr>\n",
       "    <tr>\n",
       "      <th>709</th>\n",
       "      <td>Bahr el Jebel</td>\n",
       "      <td>487.055449</td>\n",
       "      <td>1.047797e+06</td>\n",
       "      <td>3.464792e+06</td>\n",
       "      <td>7.570031e+05</td>\n",
       "      <td>3.467417e+06</td>\n",
       "      <td>South Sudan</td>\n",
       "      <td>Africa</td>\n",
       "      <td>South Sudan</td>\n",
       "      <td>Short</td>\n",
       "      <td>2.907942e+05</td>\n",
       "      <td>2625.357132</td>\n",
       "    </tr>\n",
       "    <tr>\n",
       "      <th>710</th>\n",
       "      <td>El Bahr el Abyad</td>\n",
       "      <td>900.726345</td>\n",
       "      <td>1.047797e+06</td>\n",
       "      <td>3.464792e+06</td>\n",
       "      <td>1.750930e+06</td>\n",
       "      <td>3.616785e+06</td>\n",
       "      <td>South Sudan, Sudan</td>\n",
       "      <td>Africa</td>\n",
       "      <td>South Sudan</td>\n",
       "      <td>Medium</td>\n",
       "      <td>7.031326e+05</td>\n",
       "      <td>151993.502005</td>\n",
       "    </tr>\n",
       "  </tbody>\n",
       "</table>\n",
       "</div>"
      ],
      "text/plain": [
       "           river_name  river_length_km    source_lat    source_lon  \\\n",
       "48             Kangen       284.082958  6.008701e+05  3.872592e+06   \n",
       "91              Pibor       151.660385  8.749342e+05  3.673190e+06   \n",
       "350             Akobo       446.249725  7.469433e+05  3.991152e+06   \n",
       "446             Sobat       387.947267  9.364820e+05  3.695905e+06   \n",
       "492            Atbara        38.629631  1.634626e+06  3.995859e+06   \n",
       "493            Atbara       431.533965  1.670769e+06  3.996544e+06   \n",
       "548             Setit       322.559797  1.549675e+06  4.209730e+06   \n",
       "555    Bahr el  Zeraf       226.134951  1.047039e+06  3.466385e+06   \n",
       "653  El Bahr el Azraq        75.580518  1.257378e+06  3.871423e+06   \n",
       "654  El Bahr el Azraq       816.859292  1.128225e+06  3.935236e+06   \n",
       "696              Nile      2561.763539  2.081417e+06  3.750717e+06   \n",
       "697              Nile       421.299736  2.448940e+06  3.460987e+06   \n",
       "702       Albert Nile       193.619037  2.655347e+05  3.503765e+06   \n",
       "707     Bahr el Jebel       414.604245  3.998445e+05  3.563990e+06   \n",
       "709     Bahr el Jebel       487.055449  1.047797e+06  3.464792e+06   \n",
       "710  El Bahr el Abyad       900.726345  1.047797e+06  3.464792e+06   \n",
       "\n",
       "        mouth_lat     mouth_lon          countries_passed continent  \\\n",
       "48   7.400657e+05  3.699009e+06               South Sudan    Africa   \n",
       "91   7.400657e+05  3.699009e+06     Ethiopia, South Sudan    Africa   \n",
       "350  8.783006e+05  3.672347e+06     Ethiopia, South Sudan    Africa   \n",
       "446  9.364820e+05  3.696671e+06     Ethiopia, South Sudan    Africa   \n",
       "492  1.670769e+06  3.996544e+06                     Sudan    Africa   \n",
       "493  1.792954e+06  3.961126e+06                     Sudan    Africa   \n",
       "548  1.634626e+06  3.995859e+06  Eritrea, Ethiopia, Sudan    Africa   \n",
       "555  8.615312e+05  3.399223e+06               South Sudan    Africa   \n",
       "653  1.312311e+06  3.827124e+06                     Sudan    Africa   \n",
       "654  1.750706e+06  3.616644e+06           Ethiopia, Sudan    Africa   \n",
       "696  3.498038e+06  3.477277e+06              Egypt, Sudan    Africa   \n",
       "697  2.734540e+06  3.660117e+06              Egypt, Sudan    Africa   \n",
       "702  3.998445e+05  3.563990e+06       South Sudan, Uganda    Africa   \n",
       "707  7.570031e+05  3.467417e+06               South Sudan    Africa   \n",
       "709  7.570031e+05  3.467417e+06               South Sudan    Africa   \n",
       "710  1.750930e+06  3.616785e+06        South Sudan, Sudan    Africa   \n",
       "\n",
       "    main_country length_category      lat_diff       lon_diff  \n",
       "48   South Sudan           Short  1.391957e+05  173583.395434  \n",
       "91   South Sudan           Short  1.348685e+05   25818.729554  \n",
       "350     Ethiopia           Short  1.313572e+05  318804.237012  \n",
       "446  South Sudan           Short  0.000000e+00     766.408604  \n",
       "492        Sudan           Short  3.614317e+04     684.875773  \n",
       "493        Sudan           Short  1.221846e+05   35417.861426  \n",
       "548     Ethiopia           Short  8.495141e+04  213871.484582  \n",
       "555  South Sudan           Short  1.855080e+05   67161.309973  \n",
       "653        Sudan           Short  5.493278e+04   44299.504393  \n",
       "654        Sudan          Medium  6.224805e+05  318592.251654  \n",
       "696        Sudan            Long  1.416622e+06  273439.370305  \n",
       "697        Egypt           Short  2.856006e+05  199130.348887  \n",
       "702       Uganda           Short  1.343099e+05   60225.583886  \n",
       "707  South Sudan           Short  3.571586e+05   96572.919576  \n",
       "709  South Sudan           Short  2.907942e+05    2625.357132  \n",
       "710  South Sudan          Medium  7.031326e+05  151993.502005  "
      ]
     },
     "execution_count": 452,
     "metadata": {},
     "output_type": "execute_result"
    }
   ],
   "source": [
    "#earch for Specific Country \n",
    "df[df['countries_passed'].str.contains(\"Sudan\")]"
   ]
  },
  {
   "cell_type": "code",
   "execution_count": 383,
   "id": "4fc5cd99-55a0-47b6-be7b-857d691ef949",
   "metadata": {},
   "outputs": [
    {
     "name": "stdout",
     "output_type": "stream",
     "text": [
      "    river_name  river_length_km\n",
      "769    Shannon       245.975123\n"
     ]
    }
   ],
   "source": [
    "# Longest river in Ireland\n",
    "ireland_river = df[df[\"main_country\"] == \"Ireland\"].nlargest(1, \"river_length_km\")[[\"river_name\", \"river_length_km\"]]\n",
    "print(ireland_river)"
   ]
  },
  {
   "cell_type": "code",
   "execution_count": 384,
   "id": "1129a341-53da-41e7-aa26-b588f9292414",
   "metadata": {},
   "outputs": [
    {
     "name": "stdout",
     "output_type": "stream",
     "text": [
      "Avg Length of Multi-Country Rivers: 841.57 km\n"
     ]
    }
   ],
   "source": [
    "#Average river length for rivers crossing more than one country\n",
    "multi_country_avg_length = df[df[\"countries_passed\"].str.contains(\",\")][\"river_length_km\"].mean()\n",
    "print(f\"Avg Length of Multi-Country Rivers: {multi_country_avg_length:.2f} km\")"
   ]
  },
  {
   "cell_type": "code",
   "execution_count": 385,
   "id": "29874d9a-4f18-4089-a824-b693c4baabf9",
   "metadata": {},
   "outputs": [
    {
     "name": "stdout",
     "output_type": "stream",
     "text": [
      "Multi-Country Rivers in Africa: 82\n"
     ]
    }
   ],
   "source": [
    "#multi-country rivers in Africa\n",
    "africa_multi_country = len(df[(df[\"continent\"] == \"Africa\") & (df[\"countries_passed\"].str.contains(\",\"))])\n",
    "print(f\"Multi-Country Rivers in Africa: {africa_multi_country}\")"
   ]
  },
  {
   "cell_type": "code",
   "execution_count": 386,
   "id": "e52b94d1-c7c2-4531-953f-d8291a7a4d28",
   "metadata": {},
   "outputs": [
    {
     "name": "stdout",
     "output_type": "stream",
     "text": [
      "Average Mouth Coordinates for Short Rivers: mouth_lat    2.520558e+06\n",
      "mouth_lon    1.947937e+06\n",
      "dtype: float64\n"
     ]
    }
   ],
   "source": [
    "#Average mouth coordinates for short rivers\n",
    "short_rivers_mouth = df[df[\"length_category\"] == \"Short\"][[\"mouth_lat\", \"mouth_lon\"]].mean()\n",
    "print(f\"Average Mouth Coordinates for Short Rivers: {short_rivers_mouth}\")"
   ]
  },
  {
   "cell_type": "code",
   "execution_count": 468,
   "id": "dfad32e3-4e84-4479-a6c8-c694683f37e4",
   "metadata": {},
   "outputs": [
    {
     "data": {
      "image/png": "[encoded data removed]",
      "text/plain": [
       "<Figure size 640x480 with 1 Axes>"
      ]
     },
     "metadata": {},
     "output_type": "display_data"
    }
   ],
   "source": [
    "df.groupby(\"continent\")[[\"mouth_lat\", \"mouth_lon\"]].mean().plot(kind=\"bar\")\n",
    "plt.title(\"Average Mouth Coordinates by Continent\")\n",
    "plt.xlabel(\"Continent\")\n",
    "plt.ylabel(\"Coordinates\")\n",
    "plt.show()"
   ]
  },
  {
   "cell_type": "code",
   "execution_count": 387,
   "id": "133cbcbd-4906-4240-b236-3918c40de8f3",
   "metadata": {},
   "outputs": [
    {
     "name": "stdout",
     "output_type": "stream",
     "text": [
      "          river_name      lat_diff      lon_diff\n",
      "705             Lena  4.682971e+06  2.082745e+06\n",
      "608          Yenisey  3.103515e+06  1.093301e+06\n",
      "582        Indigirka  2.495448e+06  5.590543e+05\n",
      "681           Paraná  2.378778e+06  4.576519e+05\n",
      "1378       Mackenzie  2.040299e+06  1.911119e+06\n",
      "935            Volga  1.907710e+06  1.696878e+06\n",
      "578   Lower Tunguska  1.831410e+06  1.973421e+06\n",
      "616           Kolyma  1.789615e+06  1.730138e+06\n",
      "540           Olenëk  1.759961e+06  1.738421e+06\n",
      "683          Lancang  1.732687e+06  5.145483e+05\n"
     ]
    }
   ],
   "source": [
    "#Top 10 rivers by difference between source and mouth coordinates\n",
    "df['lat_diff'] = abs(df['source_lat'] - df['mouth_lat'])\n",
    "df['lon_diff'] = abs(df['source_lon'] - df['mouth_lon'])\n",
    "top_distance_rivers = df.nlargest(10, ['lat_diff', 'lon_diff'])[[\"river_name\", \"lat_diff\", \"lon_diff\"]]\n",
    "print(top_distance_rivers)"
   ]
  },
  {
   "cell_type": "code",
   "execution_count": 388,
   "id": "cf4c9367-1a9a-4983-aa1b-594b87f17755",
   "metadata": {},
   "outputs": [
    {
     "data": {
      "image/png": "[encoded data removed]",
      "text/plain": [
       "<Figure size 640x480 with 1 Axes>"
      ]
     },
     "metadata": {},
     "output_type": "display_data"
    }
   ],
   "source": [
    "df.groupby(\"main_country\")[\"river_length_km\"].mean().nlargest(10).plot(kind=\"line\")\n",
    "plt.title(\"Average River Length by Main Country (Top 10)\")\n",
    "plt.xlabel(\"Main Country\")\n",
    "plt.ylabel(\"Average Length (km)\")\n",
    "plt.show()"
   ]
  },
  {
   "cell_type": "code",
   "execution_count": 476,
   "id": "467f8cb1-f6a6-475f-8122-49efc4881c55",
   "metadata": {},
   "outputs": [
    {
     "data": {
      "text/html": [
       "<div style=\"width:100%;\"><div style=\"position:relative;width:100%;height:0;padding-bottom:60%;\"><span style=\"color:#565656\">Make this Notebook Trusted to load map: File -> Trust Notebook</span><iframe srcdoc=\"&lt;!DOCTYPE html&gt;\n",
       "&lt;html&gt;\n",
       "&lt;head&gt;\n",
       "    \n",
       "    &lt;meta http-equiv=&quot;content-type&quot; content=&quot;text/html; charset=UTF-8&quot; /&gt;\n",
       "    &lt;script src=&quot;https://cdn.jsdelivr.net/npm/leaflet@1.9.3/dist/leaflet.js&quot;&gt;&lt;/script&gt;\n",
       "    &lt;script src=&quot;https://code.jquery.com/jquery-3.7.1.min.js&quot;&gt;&lt;/script&gt;\n",
       "    &lt;script src=&quot;https://cdn.jsdelivr.net/npm/bootstrap@5.2.2/dist/js/bootstrap.bundle.min.js&quot;&gt;&lt;/script&gt;\n",
       "    &lt;script src=&quot;https://cdnjs.cloudflare.com/ajax/libs/Leaflet.awesome-markers/2.0.2/leaflet.awesome-markers.js&quot;&gt;&lt;/script&gt;\n",
       "    &lt;link rel=&quot;stylesheet&quot; href=&quot;https://cdn.jsdelivr.net/npm/leaflet@1.9.3/dist/leaflet.css&quot;/&gt;\n",
       "    &lt;link rel=&quot;stylesheet&quot; href=&quot;https://cdn.jsdelivr.net/npm/bootstrap@5.2.2/dist/css/bootstrap.min.css&quot;/&gt;\n",
       "    &lt;link rel=&quot;stylesheet&quot; href=&quot;https://netdna.bootstrapcdn.com/bootstrap/3.0.0/css/bootstrap-glyphicons.css&quot;/&gt;\n",
       "    &lt;link rel=&quot;stylesheet&quot; href=&quot;https://cdn.jsdelivr.net/npm/@fortawesome/fontawesome-free@6.2.0/css/all.min.css&quot;/&gt;\n",
       "    &lt;link rel=&quot;stylesheet&quot; href=&quot;https://cdnjs.cloudflare.com/ajax/libs/Leaflet.awesome-markers/2.0.2/leaflet.awesome-markers.css&quot;/&gt;\n",
       "    &lt;link rel=&quot;stylesheet&quot; href=&quot;https://cdn.jsdelivr.net/gh/python-visualization/folium/folium/templates/leaflet.awesome.rotate.min.css&quot;/&gt;\n",
       "    \n",
       "            &lt;meta name=&quot;viewport&quot; content=&quot;width=device-width,\n",
       "                initial-scale=1.0, maximum-scale=1.0, user-scalable=no&quot; /&gt;\n",
       "            &lt;style&gt;\n",
       "                #map_be01a04a0a4cd1ee745fcf6d0d83c984 {\n",
       "                    position: relative;\n",
       "                    width: 100.0%;\n",
       "                    height: 100.0%;\n",
       "                    left: 0.0%;\n",
       "                    top: 0.0%;\n",
       "                }\n",
       "                .leaflet-container { font-size: 1rem; }\n",
       "            &lt;/style&gt;\n",
       "\n",
       "            &lt;style&gt;html, body {\n",
       "                width: 100%;\n",
       "                height: 100%;\n",
       "                margin: 0;\n",
       "                padding: 0;\n",
       "            }\n",
       "            &lt;/style&gt;\n",
       "\n",
       "            &lt;style&gt;#map {\n",
       "                position:absolute;\n",
       "                top:0;\n",
       "                bottom:0;\n",
       "                right:0;\n",
       "                left:0;\n",
       "                }\n",
       "            &lt;/style&gt;\n",
       "\n",
       "            &lt;script&gt;\n",
       "                L_NO_TOUCH = false;\n",
       "                L_DISABLE_3D = false;\n",
       "            &lt;/script&gt;\n",
       "\n",
       "        \n",
       "&lt;/head&gt;\n",
       "&lt;body&gt;\n",
       "    \n",
       "    \n",
       "            &lt;div class=&quot;folium-map&quot; id=&quot;map_be01a04a0a4cd1ee745fcf6d0d83c984&quot; &gt;&lt;/div&gt;\n",
       "        \n",
       "&lt;/body&gt;\n",
       "&lt;script&gt;\n",
       "    \n",
       "    \n",
       "            var map_be01a04a0a4cd1ee745fcf6d0d83c984 = L.map(\n",
       "                &quot;map_be01a04a0a4cd1ee745fcf6d0d83c984&quot;,\n",
       "                {\n",
       "                    center: [3229606.594914667, 1675478.589436914],\n",
       "                    crs: L.CRS.EPSG3857,\n",
       "                    ...{\n",
       "  &quot;zoom&quot;: 2,\n",
       "  &quot;zoomControl&quot;: true,\n",
       "  &quot;preferCanvas&quot;: false,\n",
       "}\n",
       "\n",
       "                }\n",
       "            );\n",
       "\n",
       "            \n",
       "\n",
       "        \n",
       "    \n",
       "            var tile_layer_997475ed5491358486f7d834a1ad86d3 = L.tileLayer(\n",
       "                &quot;https://tile.openstreetmap.org/{z}/{x}/{y}.png&quot;,\n",
       "                {\n",
       "  &quot;minZoom&quot;: 0,\n",
       "  &quot;maxZoom&quot;: 19,\n",
       "  &quot;maxNativeZoom&quot;: 19,\n",
       "  &quot;noWrap&quot;: false,\n",
       "  &quot;attribution&quot;: &quot;\\u0026copy; \\u003ca href=\\&quot;https://www.openstreetmap.org/copyright\\&quot;\\u003eOpenStreetMap\\u003c/a\\u003e contributors&quot;,\n",
       "  &quot;subdomains&quot;: &quot;abc&quot;,\n",
       "  &quot;detectRetina&quot;: false,\n",
       "  &quot;tms&quot;: false,\n",
       "  &quot;opacity&quot;: 1,\n",
       "}\n",
       "\n",
       "            );\n",
       "        \n",
       "    \n",
       "            tile_layer_997475ed5491358486f7d834a1ad86d3.addTo(map_be01a04a0a4cd1ee745fcf6d0d83c984);\n",
       "        \n",
       "    \n",
       "            var marker_e413deb3a87cc1b7e76f630fbd433a36 = L.marker(\n",
       "                [-803832.5740475164, 3562223.705384754],\n",
       "                {\n",
       "}\n",
       "            ).addTo(map_be01a04a0a4cd1ee745fcf6d0d83c984);\n",
       "        \n",
       "    \n",
       "        var popup_1e62fcb90fa6bbcd76730b3dfc285caa = L.popup({\n",
       "  &quot;maxWidth&quot;: &quot;100%&quot;,\n",
       "});\n",
       "\n",
       "        \n",
       "            \n",
       "                var html_d778ef63e2234418be9b199293f1f30b = $(`&lt;div id=&quot;html_d778ef63e2234418be9b199293f1f30b&quot; style=&quot;width: 100.0%; height: 100.0%;&quot;&gt;River Source&lt;/div&gt;`)[0];\n",
       "                popup_1e62fcb90fa6bbcd76730b3dfc285caa.setContent(html_d778ef63e2234418be9b199293f1f30b);\n",
       "            \n",
       "        \n",
       "\n",
       "        marker_e413deb3a87cc1b7e76f630fbd433a36.bindPopup(popup_1e62fcb90fa6bbcd76730b3dfc285caa)\n",
       "        ;\n",
       "\n",
       "        \n",
       "    \n",
       "&lt;/script&gt;\n",
       "&lt;/html&gt;\" style=\"position:absolute;width:100%;height:100%;left:0;top:0;border:none !important;\" allowfullscreen webkitallowfullscreen mozallowfullscreen></iframe></div></div>"
      ],
      "text/plain": [
       "<folium.folium.Map at 0x2a54b750290>"
      ]
     },
     "execution_count": 476,
     "metadata": {},
     "output_type": "execute_result"
    }
   ],
   "source": [
    "# Will create map with average coordinates\n",
    "m = folium.Map(location=[df['source_lat'].mean(), df['source_lon'].mean()], zoom_start=2)\n",
    "\n",
    "#one river as example\n",
    "folium.Marker(\n",
    "    location=[df.iloc[0]['source_lat'], df.iloc[0]['source_lon']],\n",
    "    popup=\"River Source\"\n",
    ").add_to(m)\n",
    "m"
   ]
  },
  {
   "cell_type": "code",
   "execution_count": 390,
   "id": "15e470bb-c584-4f5a-9ad4-93d639f79c51",
   "metadata": {},
   "outputs": [
    {
     "name": "stdout",
     "output_type": "stream",
     "text": [
      "{'River Name': 'Nile', 'Length (km)': 2561.763538872077, 'Continent': 'Africa', 'Countries Passed': 'Egypt, Sudan', 'Source Coordinates': (2081416.8197280483, 3750716.7376957503), 'Mouth Coordinates': (3498038.3719413616, 3477277.367390747)}\n"
     ]
    }
   ],
   "source": [
    "#function to extract river information based on its name\n",
    "def get_river_info(river_name):\n",
    "    #the specific river and select the first match\n",
    "    river = df[df[\"river_name\"] == river_name].iloc[0]\n",
    "    \n",
    "    #dictionary with selected river details\n",
    "    info = {\n",
    "        \"River Name\": river[\"river_name\"],\n",
    "        \"Length (km)\": river[\"river_length_km\"],\n",
    "        \"Continent\": river[\"continent\"],\n",
    "        \"Countries Passed\": river[\"countries_passed\"],\n",
    "        \"Source Coordinates\": (river[\"source_lat\"], river[\"source_lon\"]),\n",
    "        \"Mouth Coordinates\": (river[\"mouth_lat\"], river[\"mouth_lon\"])\n",
    "    }\n",
    "    return info\n",
    "\n",
    "# Exampl Retrieve information about the Nile River\n",
    "nile_info = get_river_info(\"Nile\")\n",
    "print(nile_info)\n"
   ]
  },
  {
   "cell_type": "code",
   "execution_count": 391,
   "id": "098f78fd-05ee-405e-ad79-6f06866d3193",
   "metadata": {},
   "outputs": [
    {
     "name": "stdout",
     "output_type": "stream",
     "text": [
      "{'Total Rivers': 1387, 'Longest River': 'Lena', 'Average Length': 614.8243615957364, 'Rivers Crossing Multiple Countries': 281, 'Continent with Most Rivers': 'North America'}\n"
     ]
    }
   ],
   "source": [
    "# General River Statistics\n",
    "def get_rivers_stats():\n",
    "    stats = {\n",
    "        \"Total Rivers\": len(df),\n",
    "        \"Longest River\": df.loc[df[\"river_length_km\"].idxmax()][\"river_name\"],\n",
    "        \"Average Length\": df[\"river_length_km\"].mean(),\n",
    "        \"Rivers Crossing Multiple Countries\": len(df[df[\"countries_passed\"].str.contains(\",\")]),\n",
    "        \"Continent with Most Rivers\": df[\"continent\"].value_counts().idxmax()\n",
    "    }\n",
    "    return stats\n",
    "\n",
    "print(get_rivers_stats())"
   ]
  },
  {
   "cell_type": "code",
   "execution_count": 392,
   "id": "ddcd002f-85ed-4bc2-972a-c1f5a6e2cef1",
   "metadata": {},
   "outputs": [
    {
     "name": "stdout",
     "output_type": "stream",
     "text": [
      "        river_name  river_length_km      continent\n",
      "3            Cuito       764.221869         Africa\n",
      "7      Oum Er Rbia       506.372279         Africa\n",
      "8       San Miguel       748.734513  South America\n",
      "19         Cojedes       552.292571  South America\n",
      "20          Vaupés       729.383643  South America\n",
      "...            ...              ...            ...\n",
      "1358     La Grande       733.316398  North America\n",
      "1362  Saskatchewan       704.876896  North America\n",
      "1367        Teslin       519.815010  North America\n",
      "1370     Allegheny       567.426425  North America\n",
      "1379         Slave       833.799728  North America\n",
      "\n",
      "[340 rows x 3 columns]\n"
     ]
    }
   ],
   "source": [
    "#Filter Rivers by Length\n",
    "\n",
    "def filter_rivers_by_length(min_length, max_length):\n",
    "    filtered = df[(df[\"river_length_km\"] >= min_length) & (df[\"river_length_km\"] <= max_length)]\n",
    "    return filtered[[\"river_name\", \"river_length_km\", \"continent\"]]\n",
    "\n",
    "# Example for rivers between 500-1000 km\n",
    "print(filter_rivers_by_length(500, 1000))"
   ]
  },
  {
   "cell_type": "code",
   "execution_count": 436,
   "id": "c5a38a42-1d59-4d6d-9101-7424f1fa015d",
   "metadata": {},
   "outputs": [
    {
     "data": {
      "image/png": "[encoded data removed]",
      "text/plain": [
       "<Figure size 640x480 with 1 Axes>"
      ]
     },
     "metadata": {},
     "output_type": "display_data"
    }
   ],
   "source": [
    "df['river_length_km'].hist(bins=30)\n",
    "plt.title(\"River Length Distribution\")\n",
    "plt.xlabel(\"Length (km)\")\n",
    "plt.ylabel(\"Count\")\n",
    "plt.show()"
   ]
  },
  {
   "cell_type": "code",
   "execution_count": 466,
   "id": "951a7380-b966-4732-9591-44b77ce6a101",
   "metadata": {},
   "outputs": [
    {
     "data": {
      "text/plain": [
       "<Axes: xlabel='country_count', ylabel='river_length_km'>"
      ]
     },
     "execution_count": 466,
     "metadata": {},
     "output_type": "execute_result"
    },
    {
     "data": {
      "image/png": "[encoded data removed]",
      "text/plain": [
       "<Figure size 640x480 with 1 Axes>"
      ]
     },
     "metadata": {},
     "output_type": "display_data"
    }
   ],
   "source": [
    "#River Length vs Number of Countries Passed\n",
    "df['country_count'] = df['countries_passed'].str.count(',') + 1\n",
    "df.plot.scatter(x='country_count', y='river_length_km')"
   ]
  }
 ],
 "metadata": {
  "kernelspec": {
   "display_name": "Python 3 (ipykernel)",
   "language": "python",
   "name": "python3"
  },
  "language_info": {
   "codemirror_mode": {
    "name": "ipython",
    "version": 3
   },
   "file_extension": ".py",
   "mimetype": "text/x-python",
   "name": "python",
   "nbconvert_exporter": "python",
   "pygments_lexer": "ipython3",
   "version": "3.12.4"
  }
 },
 "nbformat": 4,
 "nbformat_minor": 5
}
